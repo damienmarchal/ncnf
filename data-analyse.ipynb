{
 "cells": [
  {
   "cell_type": "code",
   "execution_count": 49,
   "metadata": {},
   "outputs": [],
   "source": [
    "import pandas\n",
    "import datetime\n",
    "\n",
    "site_id = 6\n",
    "\n",
    "weather = pandas.read_csv(f\"site_{site_id}_weather.csv\", sep=\";\", parse_dates=['Timestamp'])\n",
    "consumption = pandas.read_csv(f\"site_{site_id}_consumption.csv\", sep=\";\", parse_dates=['Timestamp'])\n",
    "\n",
    "def datetime_to_epoch(d1):\n",
    "    \"\"\"\n",
    "    January 1st, 1970 at 00:00:00 UTC is referred to as the Unix epoch\n",
    "    :param d1: input date\n",
    "    :return: seconds since unix epoch\n",
    "    \"\"\"\n",
    "    if not d1.tzinfo:\n",
    "        raise ValueError(\"date is missing timezone information\")\n",
    "\n",
    "    d2 = datetime.datetime(1970, 1, 1, tzinfo=datetime.timezone.utc)\n",
    "    time_delta = d1 - d2\n",
    "    ts = int(time_delta.total_seconds())\n",
    "    return ts\n",
    "\n",
    "def to_unix_epoch(row):\n",
    "    return datetime_to_epoch(row[\"Timestamp\"])\n",
    "\n",
    "weather = weather[weather[\"Distance\"] < 8]\n",
    "\n",
    "weather[\"UnixTS\"] = weather.apply(to_unix_epoch, axis=1)\n",
    "consumption[\"UnixTS\"] = consumption.apply(to_unix_epoch, axis=1)\n",
    "\n",
    "def convert_to_celisus(f):\n",
    "    return (f - 32) / 1.8\n",
    "\n",
    "def find_closest_temperature_at_ts(row):\n",
    "    timestamp = row[\"UnixTS\"]\n",
    "    loc = weather[\"UnixTS\"].searchsorted(timestamp)\n",
    "    \n",
    "    #return weather.iloc[loc][\"Temperature\"]\n",
    "\n",
    "    if loc < len(weather)-1:\n",
    "        c0 = weather.iloc[ loc ]\n",
    "        c1 = weather.iloc[ loc+1 ]\n",
    "        distance = c1[\"UnixTS\"] - c0[\"UnixTS\"]\n",
    "        alpha = (timestamp - c0[\"UnixTS\"]) / distance\n",
    "        t0 = weather.iloc[loc][\"Temperature\"]\n",
    "        t1 = weather.iloc[loc+1][\"Temperature\"]\n",
    "        return (1-alpha) * t0 + alpha * t1\n",
    "    return weather.iloc[loc][\"Temperature\"]\n",
    "\n",
    "consumption[\"Temperature\"] = consumption.apply(find_closest_temperature_at_ts, axis=1)\n",
    "\n",
    "weather.to_csv(f\"site_{site_id}_weather_post.csv\", sep=\";\", index=False)\n",
    "consumption.to_csv(f\"site_{site_id}_consumption_post.csv\", sep=\";\", index=False)\n",
    "\n"
   ]
  },
  {
   "cell_type": "code",
   "execution_count": null,
   "metadata": {},
   "outputs": [],
   "source": []
  },
  {
   "cell_type": "code",
   "execution_count": null,
   "metadata": {},
   "outputs": [],
   "source": []
  }
 ],
 "metadata": {
  "kernelspec": {
   "display_name": "Python 3 (ipykernel)",
   "language": "python",
   "name": "python3"
  },
  "language_info": {
   "codemirror_mode": {
    "name": "ipython",
    "version": 3
   },
   "file_extension": ".py",
   "mimetype": "text/x-python",
   "name": "python",
   "nbconvert_exporter": "python",
   "pygments_lexer": "ipython3",
   "version": "3.11.4"
  }
 },
 "nbformat": 4,
 "nbformat_minor": 2
}
