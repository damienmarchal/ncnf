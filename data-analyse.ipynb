{
 "cells": [
  {
   "cell_type": "code",
   "execution_count": 21,
   "metadata": {},
   "outputs": [
    {
     "name": "stderr",
     "output_type": "stream",
     "text": [
      "/tmp/ipykernel_9200/3549813689.py:36: RuntimeWarning: divide by zero encountered in scalar divide\n",
      "  alpha = (timestamp - c0[\"UnixTS\"]) / distance\n",
      "/tmp/ipykernel_9200/3549813689.py:39: RuntimeWarning: invalid value encountered in scalar add\n",
      "  return (1-alpha) * t0 + alpha * t1\n",
      "/tmp/ipykernel_9200/3549813689.py:36: RuntimeWarning: invalid value encountered in scalar divide\n",
      "  alpha = (timestamp - c0[\"UnixTS\"]) / distance\n"
     ]
    },
    {
     "name": "stdout",
     "output_type": "stream",
     "text": [
      "     obs_id  SiteId                 Timestamp  ForecastId         Value   \n",
      "0   1231308       6 2013-01-01 01:00:00+00:00          43  25108.373290  \\\n",
      "1   1855136       6 2013-01-01 01:15:00+00:00          43  25062.047878   \n",
      "2   5379308       6 2013-01-01 01:30:00+00:00          43  25015.722466   \n",
      "3   1204858       6 2013-01-01 01:45:00+00:00          43  24969.397055   \n",
      "4    167176       6 2013-01-01 02:00:00+00:00          43  24923.071643   \n",
      "..      ...     ...                       ...         ...           ...   \n",
      "95  1584855       6 2013-01-02 00:45:00+00:00          43  25177.861408   \n",
      "96  4414228       6 2013-01-02 01:00:00+00:00          43  25201.024114   \n",
      "97  7679920       6 2013-01-02 01:15:00+00:00          43  24946.234349   \n",
      "98  3636173       6 2013-01-02 01:30:00+00:00          43  24691.444583   \n",
      "99  2507416       6 2013-01-02 01:45:00+00:00          43  24784.095407   \n",
      "\n",
      "        UnixTS  Temperature  \n",
      "0   1357002000          NaN  \n",
      "1   1357002900          NaN  \n",
      "2   1357003800          NaN  \n",
      "3   1357004700          NaN  \n",
      "4   1357005600          NaN  \n",
      "..         ...          ...  \n",
      "95  1357087500          NaN  \n",
      "96  1357088400          NaN  \n",
      "97  1357089300         15.0  \n",
      "98  1357090200         15.0  \n",
      "99  1357091100         15.0  \n",
      "\n",
      "[100 rows x 7 columns]\n"
     ]
    }
   ],
   "source": [
    "import pandas\n",
    "import datetime\n",
    "\n",
    "site_id = 6\n",
    "\n",
    "weather = pandas.read_csv(f\"site_{site_id}_weather.csv\", sep=\";\", parse_dates=['Timestamp'])\n",
    "consumption = pandas.read_csv(f\"site_{site_id}_consumption.csv\", sep=\";\", parse_dates=['Timestamp'])\n",
    "\n",
    "def datetime_to_epoch(d1):\n",
    "    \"\"\"\n",
    "    January 1st, 1970 at 00:00:00 UTC is referred to as the Unix epoch\n",
    "    :param d1: input date\n",
    "    :return: seconds since unix epoch\n",
    "    \"\"\"\n",
    "    if not d1.tzinfo:\n",
    "        raise ValueError(\"date is missing timezone information\")\n",
    "\n",
    "    d2 = datetime.datetime(1970, 1, 1, tzinfo=datetime.timezone.utc)\n",
    "    time_delta = d1 - d2\n",
    "    ts = int(time_delta.total_seconds())\n",
    "    return ts\n",
    "\n",
    "def to_unix_epoch(row):\n",
    "    return datetime_to_epoch(row[\"Timestamp\"])\n",
    "\n",
    "weather = weather[weather[\"Distance\"] < 8]\n",
    "\n",
    "weather[\"UnixTS\"] = weather.apply(to_unix_epoch, axis=1)\n",
    "consumption[\"UnixTS\"] = consumption.apply(to_unix_epoch, axis=1)\n",
    "\n",
    "def find_closest_temperature_at_ts(row):\n",
    "    timestamp = row[\"UnixTS\"]\n",
    "    loc = weather[\"UnixTS\"].searchsorted(timestamp)\n",
    "    if loc < len(weather)-1:\n",
    "        c0 = weather.iloc[ loc ]\n",
    "        c1 = weather.iloc[ loc+1 ]\n",
    "        distance = c1[\"UnixTS\"] - c0[\"UnixTS\"]\n",
    "        print(\"YO... \", distance)\n",
    "        alpha = (timestamp - c0[\"UnixTS\"]) / distance\n",
    "        t0 = weather.iloc[loc][\"Temperature\"]\n",
    "        t1 = weather.iloc[loc+1][\"Temperature\"]\n",
    "        return (1-alpha) * t0 + alpha * t1\n",
    "    \n",
    "    return weather.iloc[loc][\"Temperature\"]\n",
    "\n",
    "consumption[\"Temperature\"] = consumption.apply(find_closest_temperature_at_ts, axis=1)\n",
    "print(consumption.head(100))\n"
   ]
  },
  {
   "cell_type": "code",
   "execution_count": null,
   "metadata": {},
   "outputs": [],
   "source": []
  },
  {
   "cell_type": "code",
   "execution_count": null,
   "metadata": {},
   "outputs": [],
   "source": []
  }
 ],
 "metadata": {
  "kernelspec": {
   "display_name": "Python 3 (ipykernel)",
   "language": "python",
   "name": "python3"
  },
  "language_info": {
   "codemirror_mode": {
    "name": "ipython",
    "version": 3
   },
   "file_extension": ".py",
   "mimetype": "text/x-python",
   "name": "python",
   "nbconvert_exporter": "python",
   "pygments_lexer": "ipython3",
   "version": "3.11.4"
  }
 },
 "nbformat": 4,
 "nbformat_minor": 2
}
