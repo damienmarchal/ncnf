{
 "cells": [
  {
   "cell_type": "code",
   "execution_count": 6,
   "metadata": {},
   "outputs": [],
   "source": [
    "import pandas\n",
    "\n",
    "weather = pandas.read_csv(\"power-laws-forecasting-energy-consumption-weather.csv\", sep=\";\", parse_dates=['Timestamp'])\n",
    "consumption = pandas.read_csv(\"power-laws-forecasting-energy-consumption-training-data.csv\", sep=\";\", parse_dates=['Timestamp'])\n",
    "\n",
    "site_id = 6\n",
    "\n",
    "weather_on_site = weather.query(f\"SiteId == {site_id}\")\n",
    "weather_on_site = weather_on_site.sort_values(\"Timestamp\")\n",
    "\n",
    "consumption_on_site = consumption[consumption[\"SiteId\"] == site_id]\n",
    "consumption_on_site = consumption_on_site.sort_values(\"Timestamp\")\n",
    "\n",
    "weather_on_site.to_csv(f\"site_{site_id}_weather.csv\", sep=\";\", index=False)\n",
    "consumption_on_site.to_csv(f\"site_{site_id}_consumption.csv\", sep=\";\", index=False)\n",
    "\n"
   ]
  }
 ],
 "metadata": {
  "kernelspec": {
   "display_name": "Python 3 (ipykernel)",
   "language": "python",
   "name": "python3"
  },
  "language_info": {
   "codemirror_mode": {
    "name": "ipython",
    "version": 3
   },
   "file_extension": ".py",
   "mimetype": "text/x-python",
   "name": "python",
   "nbconvert_exporter": "python",
   "pygments_lexer": "ipython3",
   "version": "3.11.4"
  }
 },
 "nbformat": 4,
 "nbformat_minor": 2
}
